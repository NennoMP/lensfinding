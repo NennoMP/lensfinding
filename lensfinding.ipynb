{
 "cells": [
  {
   "cell_type": "code",
   "execution_count": 1,
   "id": "0690afc1-e0de-4bbf-9798-68a96febdf21",
   "metadata": {},
   "outputs": [],
   "source": [
    "import os\n",
    "import sys\n",
    "\n",
    "import numpy as np\n",
    "import torch\n",
    "import torch.nn as nn\n",
    "from torchvision.models import resnet\n",
    "\n",
    "dir_parts = os.getcwd().split(os.path.sep)\n",
    "root_index = dir_parts.index(dir_parts[-2])\n",
    "root_dir = os.path.sep.join(dir_parts[:root_index + 1])\n",
    "sys.path.append(root_dir + '/LensFinding/src/')\n",
    "import src.data.data_utils as data_utils\n",
    "import src.hparam_tuning as tuning\n",
    "import src.utils as utils\n",
    "from src.data.lensfinding_dataset import LensFindingDataset\n",
    "from src.training.solver import Solver\n",
    "\n",
    "%load_ext autoreload\n",
    "%autoreload 2"
   ]
  },
  {
   "cell_type": "code",
   "execution_count": 2,
   "id": "ea5bc56a-ff2d-4fb9-a4d8-a22f8bc05978",
   "metadata": {},
   "outputs": [],
   "source": [
    "device = torch.device(\"cuda:0\" if torch.cuda.is_available() else \"cpu\")"
   ]
  },
  {
   "cell_type": "markdown",
   "id": "7d919f9b-e381-4e5f-a33a-68286176b685",
   "metadata": {},
   "source": [
    "# Specific Test II - Lens Finding"
   ]
  },
  {
   "cell_type": "markdown",
   "id": "58b042e6-b6a0-47fd-b649-79a6ff0d3a6c",
   "metadata": {},
   "source": [
    "In this notebook, we build a PyTorch model to solve the specific test number II for lens finding. \n",
    "\n",
    "We are going to use a simple Residual Neural Network (ResNet) [[He et al., 2016](https://openaccess.thecvf.com/content_cvpr_2016/papers/He_Deep_Residual_Learning_CVPR_2016_paper.pdf)]. Indeed, more complex architectures (e.g., DenseNet, Vision Transformers) would have been viable options, and possibly provide better results. However, they are also more computationally expensive. Thus, for simplicity, we stick to a relatively small ResNet18."
   ]
  },
  {
   "cell_type": "markdown",
   "id": "f20ad4ae-2ba7-4b8a-a97f-afcef0d195df",
   "metadata": {},
   "source": [
    "## Preparation"
   ]
  },
  {
   "cell_type": "markdown",
   "id": "5ed483d5-d656-47c7-ac71-85af7342c36d",
   "metadata": {},
   "source": [
    "### Dataset"
   ]
  },
  {
   "cell_type": "markdown",
   "id": "54f8e826-bc50-498b-8a04-d1118587e8b8",
   "metadata": {},
   "source": [
    "Let us load the lens finding dataset via PyTorch dataloaders. Specifically, we will load the original (full) training set, the train-validation splits that will be used for model selection, and the test set that will be used to assess model performance.\n",
    "\n",
    "Before delving deeper, let's define some useful variables."
   ]
  },
  {
   "cell_type": "markdown",
   "id": "1ee06982-40d3-49b0-8f49-d624b086a1cb",
   "metadata": {},
   "source": [
    "### Settings"
   ]
  },
  {
   "cell_type": "code",
   "execution_count": 3,
   "id": "aae1fca2-628a-444d-a3c5-b1e1e93b6b25",
   "metadata": {},
   "outputs": [],
   "source": [
    "# Dataset settings\n",
    "DATASET_NAME = 'lensfinding'\n",
    "N_CLASSES = 2\n",
    "\n",
    "# Dataloaders settings\n",
    "BATCH_SIZE = 256\n",
    "VAL_SPLIT = 0.2 # the percentage of training data to be used as validation\n",
    "RANDOM_STATE = 42 # for reproducibility\n",
    "STRETCH = True # whether to apply square root stretch or not"
   ]
  },
  {
   "cell_type": "markdown",
   "id": "f50e0073-b5f0-4d39-8607-8c211dbca44d",
   "metadata": {},
   "source": [
    "Now, let us instatiate the dataloaders.\n",
    "\n",
    "We apply a square-root stretch to (possibly) enhance features with lower surface brightness [[Rezaie et al., 2024](https://arxiv.org/html/2502.14936v1)]. During our model selection we observed slighly better performance when this pre-processing step was applied.\n",
    "\n",
    "To obtain train-val splits for model selection, we perform a stratified split on the original training set. Stratified splitting ensures the original class distribution and will be particularly useful to tackle class imbalance within our dataset. In fact, thanks to the task's description, we know that the dataset is heavily skewed towards non-lenses samples."
   ]
  },
  {
   "cell_type": "markdown",
   "id": "91e57bac-5ed3-4ead-8c76-96ccd834c52f",
   "metadata": {},
   "source": [
    "### Dataloaders"
   ]
  },
  {
   "cell_type": "code",
   "execution_count": 4,
   "id": "b4ce8caf-c4f9-42bb-9467-ba14ac46d014",
   "metadata": {},
   "outputs": [],
   "source": [
    "full_train_dataloader, train_dataloader, val_dataloader, test_dataloader = data_utils.get_dataloaders(\n",
    "    root_dir=f'datasets/{DATASET_NAME}',\n",
    "    dataset_class=LensFindingDataset,\n",
    "    batch_size=BATCH_SIZE,\n",
    "    val_split=VAL_SPLIT,\n",
    "    random_state=RANDOM_STATE,\n",
    "    stretch=STRETCH,\n",
    ")\n",
    "_, i_c, h, w = next(iter(train_dataloader))[0].shape\n",
    "assert i_c == 3, 'Expected one input channel'\n",
    "assert h == w, 'Expected same width/height as spatial dimensions'\n",
    "assert h == 64, 'Expected spatial dimensions of 64'"
   ]
  },
  {
   "cell_type": "markdown",
   "id": "c4da2bb9-0997-4b09-aee3-61406881252d",
   "metadata": {},
   "source": [
    "Below we visualize the class distributions in the (original) training set and in the test set. \n",
    "\n",
    "Data is considerably imbalanced, with the number of non-lenses surpassing that of strong lenses by one order of magnitude. To tackle class imbalance we will employ a very simple approach: a weighted loss function."
   ]
  },
  {
   "cell_type": "code",
   "execution_count": 5,
   "id": "320367f8-7678-4d79-8a41-06d932e4fbe6",
   "metadata": {},
   "outputs": [
    {
     "data": {
      "image/png": "[encoded data removed]",
      "text/plain": [
       "<Figure size 1000x400 with 2 Axes>"
      ]
     },
     "metadata": {},
     "output_type": "display_data"
    }
   ],
   "source": [
    "utils.plot_class_distributions(\n",
    "    dataloaders=(full_train_dataloader, test_dataloader),\n",
    "    dataloader_names=('Training', 'Test'),\n",
    "    class_names=['non-lenses', 'lenses'],\n",
    ")"
   ]
  },
  {
   "cell_type": "markdown",
   "id": "613e5dde-0530-4422-95af-a05d4e20090f",
   "metadata": {},
   "source": [
    "A weighted loss function addresses class imbalance by assigning higher penalties (weights) to minority classes. The goal is to prevent the model from being biased toward the majority class.\n",
    "\n",
    "Since we're working with classification, we use PyTorch's CrossEntropyLoss with the weight parameter to assign different penalties to each class. To properly counterbalance class imbalance, weights are computed as the inverse of class frequencies:\n",
    "\n",
    "$$ w_i = \\frac{1}{f_i} $$\n",
    "\n",
    "where $w_i$ is the penalty for class $i$ and $f_i$ is the frequency of class $i$. This ensures minority classes receive higher importance during training, while majority classes are penalized.\n",
    "\n",
    "Therefore, let us define our define our weighted loss function."
   ]
  },
  {
   "cell_type": "code",
   "execution_count": 6,
   "id": "774ce3e1-fb78-4d15-83ae-597416a47641",
   "metadata": {},
   "outputs": [],
   "source": [
    "def get_class_weights(train_dataloader: torch.utils.data.DataLoader) -> torch.Tensor:\n",
    "    \"\"\"Counts frequency of each class\"\"\"\n",
    "    class_counts = torch.zeros(2) # we have 2 classes\n",
    "    for _, labels in train_dataloader:\n",
    "        for label in labels:\n",
    "            class_counts[label] += 1\n",
    "    \n",
    "    # Calculate inverse frequency weights\n",
    "    total_samples = class_counts.sum()\n",
    "    class_weights = total_samples / (2 * class_counts)  # 2 * to normalize\n",
    "    \n",
    "    return class_weights\n",
    "\n",
    "penalties = get_class_weights(full_train_dataloader)\n",
    "weighted_criterion = torch.nn.CrossEntropyLoss(weight=penalties.to(device))"
   ]
  },
  {
   "cell_type": "markdown",
   "id": "02eb71b2-bbda-40e8-9420-ade076f3331f",
   "metadata": {},
   "source": [
    "### Model"
   ]
  },
  {
   "cell_type": "markdown",
   "id": "49734881-fd8c-4f93-8a38-5162345ea0ad",
   "metadata": {},
   "source": [
    "As ResNet18 was originally designed to process the ImageNet dataset, we need to adapt the first and last layer of the PyTorch implementation.\n",
    "Let us define the following method to instantiate our model."
   ]
  },
  {
   "cell_type": "code",
   "execution_count": 7,
   "id": "b91d6c09-be56-4cbe-85d3-5c9039188755",
   "metadata": {},
   "outputs": [],
   "source": [
    "def get_model() -> nn.Module:\n",
    "    model = resnet.resnet18()\n",
    "    model.conv1 = nn.Conv2d(i_c, 64, kernel_size=7, stride=2, padding=3, bias=False) # modify input convolution to process <i_c>-channel inputs\n",
    "    model.fc = nn.Linear(in_features=512, out_features=N_CLASSES, bias=True) # modify output fully-connected layer to predict <N_CLASSES>\n",
    "    \n",
    "    return model"
   ]
  },
  {
   "cell_type": "markdown",
   "id": "b315546b-c2b0-4c43-bda8-423266b3a12f",
   "metadata": {},
   "source": [
    "## Model Selection"
   ]
  },
  {
   "cell_type": "markdown",
   "id": "d263855d-6149-4a62-ba80-a1105df45577",
   "metadata": {},
   "source": [
    "Model selection is carried out via grid-search, as the search space is not excessively large. We leverage the $80-20$ train-val split obtained from the original training set. In particular, different hyperparamaters' configurations will be trained on the training split and tested on the validation split.\n",
    "\n",
    "We employ an $Adam$ optimizer with PyTorch default momentum values, and a linear decay learning rate scheduler. An early-stopping mechanism is employed so that training may be stopped when performance on the validation set stops improving for a number of epochs specified by $patience$. Finally, in this case we also pass our (custom) weighted loss to our tuner.\n",
    "\n",
    "Training is performed for a maximum number of $100$ epochs, with patience value of $10$. Results are averaged across $5$ different trials."
   ]
  },
  {
   "cell_type": "code",
   "execution_count": 8,
   "id": "00d3a844-79ad-4f4e-ba40-e6e14c6c1672",
   "metadata": {},
   "outputs": [],
   "source": [
    "# Wandb settings\n",
    "PROJECT_ENTITY = 'gsoc'\n",
    "MODEL_NAME = 'resnet18'\n",
    "wandb_project_name = f'{MODEL_NAME}-{DATASET_NAME.lower()}'"
   ]
  },
  {
   "cell_type": "code",
   "execution_count": 9,
   "id": "dd141590-2dca-4529-b835-14dd39ca3b2b",
   "metadata": {},
   "outputs": [],
   "source": [
    "grid_search_configs = {\n",
    "    'apply_sqrt_stretch': {\n",
    "        'values': [STRETCH]\n",
    "    },\n",
    "    'optimizer': {\n",
    "        'values': ['Adam']\n",
    "    },\n",
    "    'lr': {\n",
    "        'values': [1e-02, 5e-02, 1e-03, 5e-03, 1e-04]\n",
    "    },\n",
    "    'lr_decay': {\n",
    "        'values': [1e-04, 5e-04, 1e-05, 5e-05, 1e-06]\n",
    "    },\n",
    "    'trial_id': {\n",
    "        'values': [1, 2, 3, 4, 5]\n",
    "    },\n",
    "}\n",
    "\n",
    "tuner = tuning.Tuner(\n",
    "    device=device,\n",
    "    project_name=wandb_project_name,\n",
    "    project_entity=PROJECT_ENTITY,\n",
    "    model_fn=get_model,\n",
    "    train_dataloader=train_dataloader,\n",
    "    val_dataloader=val_dataloader,\n",
    "    configs=grid_search_configs,\n",
    "    criterion=weighted_criterion,\n",
    "    epochs=100,\n",
    "    patience=10,\n",
    ")\n",
    "#sweep_id = tuner.run(method='grid') # uncomment if you wish to repeat model selection"
   ]
  },
  {
   "cell_type": "markdown",
   "id": "29a708e0-8136-4461-b94f-efa4eef36c87",
   "metadata": {},
   "source": [
    "## Training"
   ]
  },
  {
   "cell_type": "markdown",
   "id": "9a63caa6-2978-4b92-acec-b3f47be466c7",
   "metadata": {},
   "source": [
    "Once the best configuration has been selected via model selection, we perform a final retraining on the entire training set and assess model performance on the test set.\n",
    "\n",
    "Since we want the evaluation on the test set to be \"blind,\" we cannot use it to perform early stopping. Therefore, the value of $patience$ is set to $None$. To determine a good amount of training epochs when early-stopping cannot be employed,we compute the average epoch on which the best validation performance was achieved during model selection for the current hyperparameters' configuration, and use that as the number of training epochs for the final retraining."
   ]
  },
  {
   "cell_type": "code",
   "execution_count": 10,
   "id": "634984fa-6774-4ef4-8911-8ecb77d43c9f",
   "metadata": {},
   "outputs": [],
   "source": [
    "# Best configuration found during model selection\n",
    "hparams = {\n",
    "    'apply_sqrt_stretch': True,\n",
    "    'lr': 0.001,\n",
    "    'lr_decay': 1e-06 \n",
    "}"
   ]
  },
  {
   "cell_type": "code",
   "execution_count": 11,
   "id": "f1fe18bf-ad61-4f72-9946-aa82b98e4a05",
   "metadata": {},
   "outputs": [],
   "source": [
    "# Create the model\n",
    "model = get_model()\n",
    "\n",
    "# Training\n",
    "solver = Solver(\n",
    "    device=device,\n",
    "    model=model,\n",
    "    train_dataloader=full_train_dataloader,\n",
    "    val_dataloader=test_dataloader,\n",
    "    criterion=weighted_criterion,\n",
    "    lr=hparams['lr'],\n",
    "    lr_decay=hparams['lr_decay']\n",
    ")\n",
    "#solver.train(epochs=30, log=False) # uncomment if you wish to train a new model"
   ]
  },
  {
   "cell_type": "code",
   "execution_count": 12,
   "id": "0c40206b-b139-41a4-a70c-f1043f045bc6",
   "metadata": {},
   "outputs": [],
   "source": [
    "# Store model weights at the last epoch\n",
    "#outf = f'weights/{DATASET_NAME}/weights.pth'\n",
    "#print(f\"Model weights saved to... {outf}\")\n",
    "#torch.save(solver.model.state_dict(), outf)"
   ]
  },
  {
   "cell_type": "markdown",
   "id": "b2cdbda2-000a-410b-ae7a-e34f2a7211e4",
   "metadata": {},
   "source": [
    "## Testing"
   ]
  },
  {
   "cell_type": "markdown",
   "id": "0f5c1cf7-dfb0-40ee-8335-98c600b97924",
   "metadata": {},
   "source": [
    "Let us load the previously saved model weights. Then, we evaluate the model on the test set."
   ]
  },
  {
   "cell_type": "code",
   "execution_count": 13,
   "id": "e7979203-9dcf-4283-8144-565e3014c826",
   "metadata": {},
   "outputs": [],
   "source": [
    "from sklearn.metrics import classification_report, roc_auc_score\n",
    "\n",
    "# Load model weights\n",
    "model = get_model()\n",
    "model.load_state_dict(torch.load(f'weights/{DATASET_NAME}/weights.pth', weights_only=True))\n",
    "\n",
    "# Predict on the test set\n",
    "model.to(device)\n",
    "model.eval()\n",
    "all_labels, all_preds = [], []\n",
    "with torch.no_grad():  # Add this to prevent gradient calculation during validation\n",
    "    for inputs, labels in test_dataloader:\n",
    "        inputs = inputs.to(device)\n",
    "        labels = labels.to(device)\n",
    "\n",
    "        outputs = model(inputs)\n",
    "        \n",
    "        all_labels.extend(labels.cpu().numpy())\n",
    "        probs = torch.nn.functional.softmax(outputs, dim=1).cpu().detach().numpy()\n",
    "        all_preds.append(probs)\n",
    "\n",
    "all_labels = np.array(all_labels)\n",
    "all_preds = np.vstack(all_preds)\n",
    "n_classes = all_preds.shape[1]"
   ]
  },
  {
   "cell_type": "markdown",
   "id": "420d6b30-8fe7-414a-a6ed-a9747ce5508b",
   "metadata": {},
   "source": [
    "Below we visualize the performance obtained on the test set. In particular, the classification report gives us in-depth insights into how the models performs on each class."
   ]
  },
  {
   "cell_type": "code",
   "execution_count": 14,
   "id": "7f070211-53b7-45c2-a4fd-3e299fa59fd5",
   "metadata": {},
   "outputs": [
    {
     "name": "stdout",
     "output_type": "stream",
     "text": [
      "Test AUC: 0.9781\n",
      "              precision    recall  f1-score   support\n",
      "\n",
      "           0       1.00      0.99      0.99     19455\n",
      "           1       0.39      0.77      0.52       195\n",
      "\n",
      "    accuracy                           0.99     19650\n",
      "   macro avg       0.69      0.88      0.76     19650\n",
      "weighted avg       0.99      0.99      0.99     19650\n",
      "\n"
     ]
    }
   ],
   "source": [
    "test_auc = roc_auc_score(all_labels, all_preds[:, 1])\n",
    "print(f\"Test AUC: {test_auc:.4f}\")\n",
    "print(classification_report(all_labels, np.argmax(all_preds, axis=1)))"
   ]
  },
  {
   "cell_type": "markdown",
   "id": "3817f48e-aab8-4ae4-87c1-873da52d060c",
   "metadata": {},
   "source": [
    "Finally, we plot the ROC curve (left), and a confusion matrix (right)."
   ]
  },
  {
   "cell_type": "code",
   "execution_count": 15,
   "id": "d68e3645-613d-44e7-b8b1-68f18379044f",
   "metadata": {},
   "outputs": [
    {
     "data": {
      "image/png": "[encoded data removed]",
      "text/plain": [
       "<Figure size 800x400 with 3 Axes>"
      ]
     },
     "metadata": {},
     "output_type": "display_data"
    }
   ],
   "source": [
    "utils.plot_predictions(all_labels, all_preds, ['non-lenses', 'lenses'])"
   ]
  }
 ],
 "metadata": {
  "kernelspec": {
   "display_name": "Python 3 (ipykernel)",
   "language": "python",
   "name": "python3"
  },
  "language_info": {
   "codemirror_mode": {
    "name": "ipython",
    "version": 3
   },
   "file_extension": ".py",
   "mimetype": "text/x-python",
   "name": "python",
   "nbconvert_exporter": "python",
   "pygments_lexer": "ipython3",
   "version": "3.12.9"
  }
 },
 "nbformat": 4,
 "nbformat_minor": 5
}
